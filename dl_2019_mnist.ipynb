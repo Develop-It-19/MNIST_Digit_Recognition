{
  "nbformat": 4,
  "nbformat_minor": 0,
  "metadata": {
    "colab": {
      "name": "DL_2019_MNIST.ipynb",
      "version": "0.3.2",
      "provenance": [],
      "collapsed_sections": [],
      "include_colab_link": true
    },
    "kernelspec": {
      "name": "python3",
      "display_name": "Python 3"
    }
  },
  "cells": [
    {
      "cell_type": "markdown",
      "metadata": {
        "id": "view-in-github",
        "colab_type": "text"
      },
      "source": [
        "<a href=\"https://colab.research.google.com/gist/Develop-It-19/a6c153e223ef7f87c1124f56cf26a4a4/dl_2019_mnist.ipynb\" target=\"_parent\"><img src=\"https://colab.research.google.com/assets/colab-badge.svg\" alt=\"Open In Colab\"/></a>"
      ]
    },
    {
      "metadata": {
        "id": "vdhB8Vrcv0kb",
        "colab_type": "text"
      },
      "cell_type": "markdown",
      "source": [
        "# Import Dependencies and Create Databunch"
      ]
    },
    {
      "metadata": {
        "id": "wMrVrVrZvz9I",
        "colab_type": "code",
        "colab": {}
      },
      "cell_type": "code",
      "source": [
        "%reload_ext autoreload\n",
        "%autoreload 2\n",
        "%matplotlib inline"
      ],
      "execution_count": 0,
      "outputs": []
    },
    {
      "metadata": {
        "id": "nZRQ4jsrv8f_",
        "colab_type": "code",
        "colab": {}
      },
      "cell_type": "code",
      "source": [
        "from fastai import *\n",
        "from fastai.vision import *"
      ],
      "execution_count": 0,
      "outputs": []
    },
    {
      "metadata": {
        "id": "bo7Po_fev8aK",
        "colab_type": "code",
        "outputId": "22efa0ea-bfab-4d77-daa7-e9873b77432f",
        "colab": {
          "base_uri": "https://localhost:8080/",
          "height": 34
        }
      },
      "cell_type": "code",
      "source": [
        "path = untar_data(URLs.MNIST)\n",
        "path"
      ],
      "execution_count": 91,
      "outputs": [
        {
          "output_type": "execute_result",
          "data": {
            "text/plain": [
              "PosixPath('/root/.fastai/data/mnist_png')"
            ]
          },
          "metadata": {
            "tags": []
          },
          "execution_count": 91
        }
      ]
    },
    {
      "metadata": {
        "id": "cjZWucWvvspr",
        "colab_type": "code",
        "outputId": "3512407f-bdb8-4468-f3fc-51a41bea142e",
        "colab": {
          "base_uri": "https://localhost:8080/",
          "height": 34
        }
      },
      "cell_type": "code",
      "source": [
        "!ls {path}"
      ],
      "execution_count": 92,
      "outputs": [
        {
          "output_type": "stream",
          "text": [
            "models\ttesting  training\n"
          ],
          "name": "stdout"
        }
      ]
    },
    {
      "metadata": {
        "id": "xoLkw0Q8wvGY",
        "colab_type": "code",
        "outputId": "0d30eb02-01e8-4719-e108-38808d8e4762",
        "colab": {
          "base_uri": "https://localhost:8080/",
          "height": 34
        }
      },
      "cell_type": "code",
      "source": [
        "!ls {path}/'training'"
      ],
      "execution_count": 93,
      "outputs": [
        {
          "output_type": "stream",
          "text": [
            "0  1  2  3  4  5  6  7\t8  9\n"
          ],
          "name": "stdout"
        }
      ]
    },
    {
      "metadata": {
        "id": "CuPUl9mdxSg6",
        "colab_type": "code",
        "outputId": "605dac27-f819-456b-8d56-9763bfc5c691",
        "colab": {
          "base_uri": "https://localhost:8080/",
          "height": 34
        }
      },
      "cell_type": "code",
      "source": [
        "!ls {path}/'testing'"
      ],
      "execution_count": 94,
      "outputs": [
        {
          "output_type": "stream",
          "text": [
            "0  1  2  3  4  5  6  7\t8  9\n"
          ],
          "name": "stdout"
        }
      ]
    },
    {
      "metadata": {
        "id": "QFcah6TBxWO0",
        "colab_type": "code",
        "colab": {}
      },
      "cell_type": "code",
      "source": [
        "il = ImageList.from_folder(path, convert_mode = 'L')"
      ],
      "execution_count": 0,
      "outputs": []
    },
    {
      "metadata": {
        "id": "bAyCgTUnyKNT",
        "colab_type": "code",
        "outputId": "3b3fe7c7-abd5-4795-f33a-e9dd7601736c",
        "colab": {
          "base_uri": "https://localhost:8080/",
          "height": 34
        }
      },
      "cell_type": "code",
      "source": [
        "il.items[0]"
      ],
      "execution_count": 96,
      "outputs": [
        {
          "output_type": "execute_result",
          "data": {
            "text/plain": [
              "PosixPath('/root/.fastai/data/mnist_png/training/3/20800.png')"
            ]
          },
          "metadata": {
            "tags": []
          },
          "execution_count": 96
        }
      ]
    },
    {
      "metadata": {
        "id": "tKnDPzb33Bop",
        "colab_type": "code",
        "outputId": "0df29275-3f99-46e0-d341-0207431eb0f9",
        "colab": {
          "base_uri": "https://localhost:8080/",
          "height": 68
        }
      },
      "cell_type": "code",
      "source": [
        "il"
      ],
      "execution_count": 97,
      "outputs": [
        {
          "output_type": "execute_result",
          "data": {
            "text/plain": [
              "ImageList (70000 items)\n",
              "Image (1, 28, 28),Image (1, 28, 28),Image (1, 28, 28),Image (1, 28, 28),Image (1, 28, 28)\n",
              "Path: /root/.fastai/data/mnist_png"
            ]
          },
          "metadata": {
            "tags": []
          },
          "execution_count": 97
        }
      ]
    },
    {
      "metadata": {
        "id": "IBRylOxY_Eoh",
        "colab_type": "code",
        "colab": {}
      },
      "cell_type": "code",
      "source": [
        "defaults.cmap = 'binary'"
      ],
      "execution_count": 0,
      "outputs": []
    },
    {
      "metadata": {
        "id": "CDGsFT_-y60W",
        "colab_type": "code",
        "outputId": "047b8bac-431e-455f-c5ed-b1ef3ae51abe",
        "colab": {
          "base_uri": "https://localhost:8080/",
          "height": 212
        }
      },
      "cell_type": "code",
      "source": [
        "il[0].show()"
      ],
      "execution_count": 99,
      "outputs": [
        {
          "output_type": "display_data",
          "data": {
            "image/png": "[encoded data removed]",
            "text/plain": [
              "<Figure size 216x216 with 1 Axes>"
            ]
          },
          "metadata": {
            "tags": []
          }
        }
      ]
    },
    {
      "metadata": {
        "id": "SGVd3EzYzBs_",
        "colab_type": "code",
        "colab": {}
      },
      "cell_type": "code",
      "source": [
        "sd = il.split_by_folder(train = 'training', valid = 'testing')"
      ],
      "execution_count": 0,
      "outputs": []
    },
    {
      "metadata": {
        "id": "rBdyCrtG3XNM",
        "colab_type": "code",
        "outputId": "835c6659-c162-443c-bb84-2ff6e3ab072d",
        "colab": {
          "base_uri": "https://localhost:8080/",
          "height": 204
        }
      },
      "cell_type": "code",
      "source": [
        "sd"
      ],
      "execution_count": 101,
      "outputs": [
        {
          "output_type": "execute_result",
          "data": {
            "text/plain": [
              "ItemLists;\n",
              "\n",
              "Train: ImageList (60000 items)\n",
              "Image (1, 28, 28),Image (1, 28, 28),Image (1, 28, 28),Image (1, 28, 28),Image (1, 28, 28)\n",
              "Path: /root/.fastai/data/mnist_png;\n",
              "\n",
              "Valid: ImageList (10000 items)\n",
              "Image (1, 28, 28),Image (1, 28, 28),Image (1, 28, 28),Image (1, 28, 28),Image (1, 28, 28)\n",
              "Path: /root/.fastai/data/mnist_png;\n",
              "\n",
              "Test: None"
            ]
          },
          "metadata": {
            "tags": []
          },
          "execution_count": 101
        }
      ]
    },
    {
      "metadata": {
        "id": "rqWhut653ov8",
        "colab_type": "code",
        "outputId": "b717d830-2294-4b94-f554-b8553e2b01d1",
        "colab": {
          "base_uri": "https://localhost:8080/",
          "height": 187
        }
      },
      "cell_type": "code",
      "source": [
        "(path/'training').ls()"
      ],
      "execution_count": 102,
      "outputs": [
        {
          "output_type": "execute_result",
          "data": {
            "text/plain": [
              "[PosixPath('/root/.fastai/data/mnist_png/training/3'),\n",
              " PosixPath('/root/.fastai/data/mnist_png/training/8'),\n",
              " PosixPath('/root/.fastai/data/mnist_png/training/1'),\n",
              " PosixPath('/root/.fastai/data/mnist_png/training/0'),\n",
              " PosixPath('/root/.fastai/data/mnist_png/training/5'),\n",
              " PosixPath('/root/.fastai/data/mnist_png/training/4'),\n",
              " PosixPath('/root/.fastai/data/mnist_png/training/9'),\n",
              " PosixPath('/root/.fastai/data/mnist_png/training/6'),\n",
              " PosixPath('/root/.fastai/data/mnist_png/training/2'),\n",
              " PosixPath('/root/.fastai/data/mnist_png/training/7')]"
            ]
          },
          "metadata": {
            "tags": []
          },
          "execution_count": 102
        }
      ]
    },
    {
      "metadata": {
        "id": "k4S6wOUE3bSt",
        "colab_type": "code",
        "colab": {}
      },
      "cell_type": "code",
      "source": [
        "ll = sd.label_from_folder()"
      ],
      "execution_count": 0,
      "outputs": []
    },
    {
      "metadata": {
        "id": "Xgg6dsRA3x4Q",
        "colab_type": "code",
        "outputId": "00c1776b-99e7-4a77-8b14-57b9edca45fb",
        "colab": {
          "base_uri": "https://localhost:8080/",
          "height": 306
        }
      },
      "cell_type": "code",
      "source": [
        "ll"
      ],
      "execution_count": 104,
      "outputs": [
        {
          "output_type": "execute_result",
          "data": {
            "text/plain": [
              "LabelLists;\n",
              "\n",
              "Train: LabelList (60000 items)\n",
              "x: ImageList\n",
              "Image (1, 28, 28),Image (1, 28, 28),Image (1, 28, 28),Image (1, 28, 28),Image (1, 28, 28)\n",
              "y: CategoryList\n",
              "3,3,3,3,3\n",
              "Path: /root/.fastai/data/mnist_png;\n",
              "\n",
              "Valid: LabelList (10000 items)\n",
              "x: ImageList\n",
              "Image (1, 28, 28),Image (1, 28, 28),Image (1, 28, 28),Image (1, 28, 28),Image (1, 28, 28)\n",
              "y: CategoryList\n",
              "3,3,3,3,3\n",
              "Path: /root/.fastai/data/mnist_png;\n",
              "\n",
              "Test: None"
            ]
          },
          "metadata": {
            "tags": []
          },
          "execution_count": 104
        }
      ]
    },
    {
      "metadata": {
        "id": "o7wuqiPu3yoL",
        "colab_type": "code",
        "colab": {}
      },
      "cell_type": "code",
      "source": [
        "x, y = ll.train[0]"
      ],
      "execution_count": 0,
      "outputs": []
    },
    {
      "metadata": {
        "id": "uActhDWK39Hf",
        "colab_type": "code",
        "outputId": "9b0a03c1-76f6-4ff5-b477-bb775e10798c",
        "colab": {
          "base_uri": "https://localhost:8080/",
          "height": 229
        }
      },
      "cell_type": "code",
      "source": [
        "x.show()\n",
        "print(y, x.shape)"
      ],
      "execution_count": 106,
      "outputs": [
        {
          "output_type": "stream",
          "text": [
            "3 torch.Size([1, 28, 28])\n"
          ],
          "name": "stdout"
        },
        {
          "output_type": "display_data",
          "data": {
            "image/png": "[encoded data removed]",
            "text/plain": [
              "<Figure size 216x216 with 1 Axes>"
            ]
          },
          "metadata": {
            "tags": []
          }
        }
      ]
    },
    {
      "metadata": {
        "id": "JmbPAT0k0eYi",
        "colab_type": "code",
        "colab": {}
      },
      "cell_type": "code",
      "source": [
        "tfms = ([*rand_pad(padding = 3, size = 28, mode = 'zeros')], [])"
      ],
      "execution_count": 0,
      "outputs": []
    },
    {
      "metadata": {
        "id": "Wgw9Qmuc0eV4",
        "colab_type": "code",
        "colab": {}
      },
      "cell_type": "code",
      "source": [
        "ll = ll.transform(tfms)"
      ],
      "execution_count": 0,
      "outputs": []
    },
    {
      "metadata": {
        "id": "9abkTs4p0eRd",
        "colab_type": "code",
        "colab": {}
      },
      "cell_type": "code",
      "source": [
        "bs = 128"
      ],
      "execution_count": 0,
      "outputs": []
    },
    {
      "metadata": {
        "id": "S3zH3set0ePm",
        "colab_type": "code",
        "colab": {}
      },
      "cell_type": "code",
      "source": [
        "data = ll.databunch(bs = bs).normalize()"
      ],
      "execution_count": 0,
      "outputs": []
    },
    {
      "metadata": {
        "id": "eVppmzf71fmr",
        "colab_type": "code",
        "colab": {}
      },
      "cell_type": "code",
      "source": [
        "x, y = data.train_ds[0]"
      ],
      "execution_count": 0,
      "outputs": []
    },
    {
      "metadata": {
        "id": "CqsoHR6y4U2t",
        "colab_type": "code",
        "outputId": "0ac1301b-a55d-4c92-88dd-842521839b64",
        "colab": {
          "base_uri": "https://localhost:8080/",
          "height": 229
        }
      },
      "cell_type": "code",
      "source": [
        "x.show()\n",
        "print(y, x.shape)"
      ],
      "execution_count": 112,
      "outputs": [
        {
          "output_type": "stream",
          "text": [
            "3 torch.Size([1, 28, 28])\n"
          ],
          "name": "stdout"
        },
        {
          "output_type": "display_data",
          "data": {
            "image/png": "[encoded data removed]",
            "text/plain": [
              "<Figure size 216x216 with 1 Axes>"
            ]
          },
          "metadata": {
            "tags": []
          }
        }
      ]
    },
    {
      "metadata": {
        "id": "FaPxpHGG1fiT",
        "colab_type": "code",
        "outputId": "e87bb7ba-63b0-4e24-adb8-0ff4640380c1",
        "colab": {
          "base_uri": "https://localhost:8080/",
          "height": 539
        }
      },
      "cell_type": "code",
      "source": [
        "def _plot(i, j, ax):\n",
        "  data.train_ds[0][0].show(ax, cmap = 'gray')\n",
        "plot_multi(_plot, 3, 3, figsize = (9, 9))"
      ],
      "execution_count": 113,
      "outputs": [
        {
          "output_type": "display_data",
          "data": {
            "image/png": "[encoded data removed]",
            "text/plain": [
              "<Figure size 648x648 with 9 Axes>"
            ]
          },
          "metadata": {
            "tags": []
          }
        }
      ]
    },
    {
      "metadata": {
        "id": "OdkOYWhJ1fgq",
        "colab_type": "code",
        "outputId": "83e7ae73-9500-4210-8f49-c400756af46b",
        "colab": {
          "base_uri": "https://localhost:8080/",
          "height": 657
        }
      },
      "cell_type": "code",
      "source": [
        "data.show_batch(rows = 3, figsize = (9, 9))"
      ],
      "execution_count": 114,
      "outputs": [
        {
          "output_type": "display_data",
          "data": {
            "image/png": "[encoded data removed]",
            "text/plain": [
              "<Figure size 648x648 with 9 Axes>"
            ]
          },
          "metadata": {
            "tags": []
          }
        }
      ]
    },
    {
      "metadata": {
        "id": "7ISBlf5K4dFm",
        "colab_type": "code",
        "outputId": "6c552456-979b-4aef-d8fc-1b28b9d87805",
        "colab": {
          "base_uri": "https://localhost:8080/",
          "height": 34
        }
      },
      "cell_type": "code",
      "source": [
        "xb, yb = data.one_batch()\n",
        "xb.shape, yb.shape"
      ],
      "execution_count": 115,
      "outputs": [
        {
          "output_type": "execute_result",
          "data": {
            "text/plain": [
              "(torch.Size([128, 1, 28, 28]), torch.Size([128]))"
            ]
          },
          "metadata": {
            "tags": []
          },
          "execution_count": 115
        }
      ]
    },
    {
      "metadata": {
        "id": "DASFLEQ3PzjN",
        "colab_type": "text"
      },
      "cell_type": "markdown",
      "source": [
        "# Model Building, Training and Testing."
      ]
    },
    {
      "metadata": {
        "id": "DlyNhqonD1Me",
        "colab_type": "code",
        "colab": {}
      },
      "cell_type": "code",
      "source": [
        "def conv(ni, nf):\n",
        "\treturn nn.Conv2d(ni, nf, kernel_size = 3, stride = 2, padding = 1)"
      ],
      "execution_count": 0,
      "outputs": []
    },
    {
      "metadata": {
        "id": "7ThIq19MSTuF",
        "colab_type": "code",
        "colab": {}
      },
      "cell_type": "code",
      "source": [
        "#Initial Image size 1 x 28 x 28\n",
        "model = nn.Sequential(\n",
        "\tconv(1, 8), #size of output 8 x 14 x 14\n",
        "\tnn.BatchNorm2d(8),\n",
        "\tnn.ReLU(),\n",
        "\tconv(8, 16), #size of output 16 x 7 x 7\n",
        "\tnn.BatchNorm2d(16),\n",
        "\tnn.ReLU(),\n",
        "\tconv(16, 32), #size of output 32 x 4 x 4\n",
        "\tnn.BatchNorm2d(32),\n",
        "\tnn.ReLU(),\n",
        "\tconv(32, 16), #size of output 16 x 2 x 2\n",
        "\tnn.BatchNorm2d(16),\n",
        "\tnn.ReLU(),\n",
        "\tconv(16, 10), #size of output 10 x 1 x 1\n",
        "\tnn.BatchNorm2d(10),\n",
        "\tFlatten() \t#Removes 1 x 1 grid\n",
        "\t)"
      ],
      "execution_count": 0,
      "outputs": []
    },
    {
      "metadata": {
        "id": "3o94-J5lSUl0",
        "colab_type": "code",
        "colab": {}
      },
      "cell_type": "code",
      "source": [
        "learn = Learner(data, model, loss_func = nn.CrossEntropyLoss(), metrics = accuracy)"
      ],
      "execution_count": 0,
      "outputs": []
    },
    {
      "metadata": {
        "id": "yxSkGpqdSUhb",
        "colab_type": "code",
        "outputId": "2cd75c01-08c7-4311-9494-0a129cf39327",
        "colab": {
          "base_uri": "https://localhost:8080/",
          "height": 646
        }
      },
      "cell_type": "code",
      "source": [
        "learn.summary()"
      ],
      "execution_count": 119,
      "outputs": [
        {
          "output_type": "execute_result",
          "data": {
            "text/plain": [
              "======================================================================\n",
              "Layer (type)         Output Shape         Param #    Trainable \n",
              "======================================================================\n",
              "Conv2d               [1, 8, 14, 14]       80         True      \n",
              "______________________________________________________________________\n",
              "BatchNorm2d          [1, 8, 14, 14]       16         True      \n",
              "______________________________________________________________________\n",
              "ReLU                 [1, 8, 14, 14]       0          False     \n",
              "______________________________________________________________________\n",
              "Conv2d               [1, 16, 7, 7]        1,168      True      \n",
              "______________________________________________________________________\n",
              "BatchNorm2d          [1, 16, 7, 7]        32         True      \n",
              "______________________________________________________________________\n",
              "ReLU                 [1, 16, 7, 7]        0          False     \n",
              "______________________________________________________________________\n",
              "Conv2d               [1, 32, 4, 4]        4,640      True      \n",
              "______________________________________________________________________\n",
              "BatchNorm2d          [1, 32, 4, 4]        64         True      \n",
              "______________________________________________________________________\n",
              "ReLU                 [1, 32, 4, 4]        0          False     \n",
              "______________________________________________________________________\n",
              "Conv2d               [1, 16, 2, 2]        4,624      True      \n",
              "______________________________________________________________________\n",
              "BatchNorm2d          [1, 16, 2, 2]        32         True      \n",
              "______________________________________________________________________\n",
              "ReLU                 [1, 16, 2, 2]        0          False     \n",
              "______________________________________________________________________\n",
              "Conv2d               [1, 10, 1, 1]        1,450      True      \n",
              "______________________________________________________________________\n",
              "BatchNorm2d          [1, 10, 1, 1]        20         True      \n",
              "______________________________________________________________________\n",
              "Flatten              [1, 10]              0          False     \n",
              "______________________________________________________________________\n",
              "\n",
              "Total params: 12,126\n",
              "Total trainable params: 12,126\n",
              "Total non-trainable params: 0"
            ]
          },
          "metadata": {
            "tags": []
          },
          "execution_count": 119
        }
      ]
    },
    {
      "metadata": {
        "id": "1PY-i3nWSTnh",
        "colab_type": "code",
        "colab": {}
      },
      "cell_type": "code",
      "source": [
        "#xb = xb.cuda()"
      ],
      "execution_count": 0,
      "outputs": []
    },
    {
      "metadata": {
        "id": "T_XRuQTcShDm",
        "colab_type": "code",
        "outputId": "b10fd052-f893-45aa-c9b6-74be6b1e550c",
        "colab": {
          "base_uri": "https://localhost:8080/",
          "height": 34
        }
      },
      "cell_type": "code",
      "source": [
        "model(xb).shape\n",
        "\t#Any PyTorch Module we can pretend as a function.\n",
        "\t#Check the Output shape."
      ],
      "execution_count": 121,
      "outputs": [
        {
          "output_type": "execute_result",
          "data": {
            "text/plain": [
              "torch.Size([128, 10])"
            ]
          },
          "metadata": {
            "tags": []
          },
          "execution_count": 121
        }
      ]
    },
    {
      "metadata": {
        "id": "Xflzg8z3SlKv",
        "colab_type": "code",
        "outputId": "fc828a8b-9480-47b4-e55c-dcfe087e0174",
        "colab": {
          "base_uri": "https://localhost:8080/",
          "height": 34
        }
      },
      "cell_type": "code",
      "source": [
        "learn.lr_find(end_lr = 100)"
      ],
      "execution_count": 122,
      "outputs": [
        {
          "output_type": "display_data",
          "data": {
            "text/html": [
              ""
            ],
            "text/plain": [
              "<IPython.core.display.HTML object>"
            ]
          },
          "metadata": {
            "tags": []
          }
        },
        {
          "output_type": "stream",
          "text": [
            "LR Finder is complete, type {learner_name}.recorder.plot() to see the graph.\n"
          ],
          "name": "stdout"
        }
      ]
    },
    {
      "metadata": {
        "id": "Eu6DpY-ESne4",
        "colab_type": "code",
        "outputId": "f389c83f-98a5-4a59-ee8b-29beac721003",
        "colab": {
          "base_uri": "https://localhost:8080/",
          "height": 279
        }
      },
      "cell_type": "code",
      "source": [
        "learn.recorder.plot()"
      ],
      "execution_count": 123,
      "outputs": [
        {
          "output_type": "display_data",
          "data": {
            "image/png": "[encoded data removed]",
            "text/plain": [
              "<Figure size 432x288 with 1 Axes>"
            ]
          },
          "metadata": {
            "tags": []
          }
        }
      ]
    },
    {
      "metadata": {
        "id": "iOam_3SASqX-",
        "colab_type": "code",
        "outputId": "54d1eac0-b61f-45f1-91be-e0cc643a93fc",
        "colab": {
          "base_uri": "https://localhost:8080/",
          "height": 382
        }
      },
      "cell_type": "code",
      "source": [
        "learn.fit_one_cycle(10, max_lr = 0.1)"
      ],
      "execution_count": 124,
      "outputs": [
        {
          "output_type": "display_data",
          "data": {
            "text/html": [
              "Total time: 06:47 <p><table border=\"1\" class=\"dataframe\">\n",
              "  <thead>\n",
              "    <tr style=\"text-align: left;\">\n",
              "      <th>epoch</th>\n",
              "      <th>train_loss</th>\n",
              "      <th>valid_loss</th>\n",
              "      <th>accuracy</th>\n",
              "      <th>time</th>\n",
              "    </tr>\n",
              "  </thead>\n",
              "  <tbody>\n",
              "    <tr>\n",
              "      <td>0</td>\n",
              "      <td>0.219880</td>\n",
              "      <td>0.175714</td>\n",
              "      <td>0.945200</td>\n",
              "      <td>00:40</td>\n",
              "    </tr>\n",
              "    <tr>\n",
              "      <td>1</td>\n",
              "      <td>0.180830</td>\n",
              "      <td>0.178993</td>\n",
              "      <td>0.942500</td>\n",
              "      <td>00:40</td>\n",
              "    </tr>\n",
              "    <tr>\n",
              "      <td>2</td>\n",
              "      <td>0.163934</td>\n",
              "      <td>0.183012</td>\n",
              "      <td>0.941200</td>\n",
              "      <td>00:40</td>\n",
              "    </tr>\n",
              "    <tr>\n",
              "      <td>3</td>\n",
              "      <td>0.129355</td>\n",
              "      <td>0.105281</td>\n",
              "      <td>0.965300</td>\n",
              "      <td>00:41</td>\n",
              "    </tr>\n",
              "    <tr>\n",
              "      <td>4</td>\n",
              "      <td>0.109715</td>\n",
              "      <td>0.183049</td>\n",
              "      <td>0.941900</td>\n",
              "      <td>00:40</td>\n",
              "    </tr>\n",
              "    <tr>\n",
              "      <td>5</td>\n",
              "      <td>0.095002</td>\n",
              "      <td>0.077882</td>\n",
              "      <td>0.975600</td>\n",
              "      <td>00:40</td>\n",
              "    </tr>\n",
              "    <tr>\n",
              "      <td>6</td>\n",
              "      <td>0.082391</td>\n",
              "      <td>0.051353</td>\n",
              "      <td>0.983200</td>\n",
              "      <td>00:40</td>\n",
              "    </tr>\n",
              "    <tr>\n",
              "      <td>7</td>\n",
              "      <td>0.062492</td>\n",
              "      <td>0.038718</td>\n",
              "      <td>0.988400</td>\n",
              "      <td>00:40</td>\n",
              "    </tr>\n",
              "    <tr>\n",
              "      <td>8</td>\n",
              "      <td>0.049674</td>\n",
              "      <td>0.031636</td>\n",
              "      <td>0.990100</td>\n",
              "      <td>00:40</td>\n",
              "    </tr>\n",
              "    <tr>\n",
              "      <td>9</td>\n",
              "      <td>0.046364</td>\n",
              "      <td>0.028814</td>\n",
              "      <td>0.990000</td>\n",
              "      <td>00:40</td>\n",
              "    </tr>\n",
              "  </tbody>\n",
              "</table>"
            ],
            "text/plain": [
              "<IPython.core.display.HTML object>"
            ]
          },
          "metadata": {
            "tags": []
          }
        }
      ]
    },
    {
      "metadata": {
        "id": "urzTGVK8UpqC",
        "colab_type": "code",
        "colab": {}
      },
      "cell_type": "code",
      "source": [
        "def conv2(ni, nf):\n",
        "\treturn conv_layer(ni, nf, stride = 2)"
      ],
      "execution_count": 0,
      "outputs": []
    },
    {
      "metadata": {
        "id": "lovezz4dyWYj",
        "colab_type": "code",
        "colab": {}
      },
      "cell_type": "code",
      "source": [
        "model2 = nn.Sequential(\n",
        "\tconv2(1, 8),\n",
        "\tconv2(8, 16),\n",
        "\tconv2(16, 32),\n",
        "\tconv2(32, 16),\n",
        "\tconv2(16, 10),\n",
        "\tFlatten()\n",
        "\t)"
      ],
      "execution_count": 0,
      "outputs": []
    },
    {
      "metadata": {
        "id": "dgHZpmwuyWWk",
        "colab_type": "code",
        "colab": {}
      },
      "cell_type": "code",
      "source": [
        "learn2 = Learner(data, model2, loss_func = nn.CrossEntropyLoss(), metrics = accuracy)"
      ],
      "execution_count": 0,
      "outputs": []
    },
    {
      "metadata": {
        "id": "G9_c7bOJyWTT",
        "colab_type": "code",
        "outputId": "e04445af-1ad6-4169-978c-c9be1c712d72",
        "colab": {
          "base_uri": "https://localhost:8080/",
          "height": 382
        }
      },
      "cell_type": "code",
      "source": [
        "learn2.fit_one_cycle(10, max_lr = 0.1)"
      ],
      "execution_count": 128,
      "outputs": [
        {
          "output_type": "display_data",
          "data": {
            "text/html": [
              "Total time: 06:50 <p><table border=\"1\" class=\"dataframe\">\n",
              "  <thead>\n",
              "    <tr style=\"text-align: left;\">\n",
              "      <th>epoch</th>\n",
              "      <th>train_loss</th>\n",
              "      <th>valid_loss</th>\n",
              "      <th>accuracy</th>\n",
              "      <th>time</th>\n",
              "    </tr>\n",
              "  </thead>\n",
              "  <tbody>\n",
              "    <tr>\n",
              "      <td>0</td>\n",
              "      <td>0.234447</td>\n",
              "      <td>0.273027</td>\n",
              "      <td>0.913200</td>\n",
              "      <td>00:40</td>\n",
              "    </tr>\n",
              "    <tr>\n",
              "      <td>1</td>\n",
              "      <td>0.192211</td>\n",
              "      <td>0.245249</td>\n",
              "      <td>0.921400</td>\n",
              "      <td>00:40</td>\n",
              "    </tr>\n",
              "    <tr>\n",
              "      <td>2</td>\n",
              "      <td>0.166312</td>\n",
              "      <td>0.299438</td>\n",
              "      <td>0.897800</td>\n",
              "      <td>00:40</td>\n",
              "    </tr>\n",
              "    <tr>\n",
              "      <td>3</td>\n",
              "      <td>0.135279</td>\n",
              "      <td>0.226379</td>\n",
              "      <td>0.933900</td>\n",
              "      <td>00:40</td>\n",
              "    </tr>\n",
              "    <tr>\n",
              "      <td>4</td>\n",
              "      <td>0.119406</td>\n",
              "      <td>0.077284</td>\n",
              "      <td>0.975800</td>\n",
              "      <td>00:40</td>\n",
              "    </tr>\n",
              "    <tr>\n",
              "      <td>5</td>\n",
              "      <td>0.106587</td>\n",
              "      <td>0.092221</td>\n",
              "      <td>0.971800</td>\n",
              "      <td>00:40</td>\n",
              "    </tr>\n",
              "    <tr>\n",
              "      <td>6</td>\n",
              "      <td>0.091173</td>\n",
              "      <td>0.049426</td>\n",
              "      <td>0.984100</td>\n",
              "      <td>00:42</td>\n",
              "    </tr>\n",
              "    <tr>\n",
              "      <td>7</td>\n",
              "      <td>0.065166</td>\n",
              "      <td>0.040378</td>\n",
              "      <td>0.986800</td>\n",
              "      <td>00:41</td>\n",
              "    </tr>\n",
              "    <tr>\n",
              "      <td>8</td>\n",
              "      <td>0.047844</td>\n",
              "      <td>0.029194</td>\n",
              "      <td>0.990400</td>\n",
              "      <td>00:42</td>\n",
              "    </tr>\n",
              "    <tr>\n",
              "      <td>9</td>\n",
              "      <td>0.044007</td>\n",
              "      <td>0.028050</td>\n",
              "      <td>0.990800</td>\n",
              "      <td>00:41</td>\n",
              "    </tr>\n",
              "  </tbody>\n",
              "</table>"
            ],
            "text/plain": [
              "<IPython.core.display.HTML object>"
            ]
          },
          "metadata": {
            "tags": []
          }
        }
      ]
    },
    {
      "metadata": {
        "id": "Lr3Xr3LQP9_E",
        "colab_type": "text"
      },
      "cell_type": "markdown",
      "source": [
        "# ResNets for Training and Testing."
      ]
    },
    {
      "metadata": {
        "id": "bzkhtbiWyfw-",
        "colab_type": "code",
        "colab": {}
      },
      "cell_type": "code",
      "source": [
        "modelRes = nn.Sequential(\n",
        "\tconv2(1, 8),\n",
        "\tres_block(8),\n",
        "\tconv2(8, 16),\n",
        "\tres_block(16),\n",
        "\tconv2(16, 32),\n",
        "\tres_block(32),\n",
        "\tconv2(32, 16),\n",
        "\tres_block(16),\n",
        "\tconv2(16, 10),\n",
        "\tFlatten()\n",
        "\t)"
      ],
      "execution_count": 0,
      "outputs": []
    },
    {
      "metadata": {
        "id": "-IfaaNwKyfsI",
        "colab_type": "code",
        "colab": {}
      },
      "cell_type": "code",
      "source": [
        "#Refactor\n",
        "def conv_and_res(ni, nf):\n",
        "\treturn nn.Sequential(conv2(ni, nf), res_block(nf))\n"
      ],
      "execution_count": 0,
      "outputs": []
    },
    {
      "metadata": {
        "id": "cgJ7oV_5ym1_",
        "colab_type": "code",
        "colab": {}
      },
      "cell_type": "code",
      "source": [
        "modelRes = nn.Sequential(\n",
        "\tconv_and_res(1, 8),\n",
        "\tconv_and_res(8, 16),\n",
        "\tconv_and_res(16, 32),\n",
        "\tconv_and_res(32, 16),\n",
        "\tconv2(16, 10),\n",
        "\tFlatten()\n",
        "\t)\n"
      ],
      "execution_count": 0,
      "outputs": []
    },
    {
      "metadata": {
        "id": "f6nTOQUyymwJ",
        "colab_type": "code",
        "colab": {}
      },
      "cell_type": "code",
      "source": [
        "learnRes = Learner(data, modelRes, loss_func = nn.CrossEntropyLoss(), metrics = accuracy)"
      ],
      "execution_count": 0,
      "outputs": []
    },
    {
      "metadata": {
        "id": "xmZcyrNgyrPZ",
        "colab_type": "code",
        "outputId": "ac09bf48-5b6f-466e-ff54-5cf9c4a0a95e",
        "colab": {
          "base_uri": "https://localhost:8080/",
          "height": 298
        }
      },
      "cell_type": "code",
      "source": [
        "learnRes.lr_find(end_lr = 100)\n",
        "\n",
        "learnRes.recorder.plot()"
      ],
      "execution_count": 133,
      "outputs": [
        {
          "output_type": "display_data",
          "data": {
            "text/html": [
              ""
            ],
            "text/plain": [
              "<IPython.core.display.HTML object>"
            ]
          },
          "metadata": {
            "tags": []
          }
        },
        {
          "output_type": "stream",
          "text": [
            "LR Finder is complete, type {learner_name}.recorder.plot() to see the graph.\n"
          ],
          "name": "stdout"
        },
        {
          "output_type": "display_data",
          "data": {
            "image/png": "[encoded data removed]",
            "text/plain": [
              "<Figure size 432x288 with 1 Axes>"
            ]
          },
          "metadata": {
            "tags": []
          }
        }
      ]
    },
    {
      "metadata": {
        "id": "Z9vAMDvBTmSZ",
        "colab_type": "code",
        "outputId": "e102bbeb-38e0-4be3-89eb-de839122241b",
        "colab": {
          "base_uri": "https://localhost:8080/",
          "height": 537
        }
      },
      "cell_type": "code",
      "source": [
        "learnRes.fit_one_cycle(15, max_lr = 1e-1)"
      ],
      "execution_count": 134,
      "outputs": [
        {
          "output_type": "display_data",
          "data": {
            "text/html": [
              "Total time: 17:03 <p><table border=\"1\" class=\"dataframe\">\n",
              "  <thead>\n",
              "    <tr style=\"text-align: left;\">\n",
              "      <th>epoch</th>\n",
              "      <th>train_loss</th>\n",
              "      <th>valid_loss</th>\n",
              "      <th>accuracy</th>\n",
              "      <th>time</th>\n",
              "    </tr>\n",
              "  </thead>\n",
              "  <tbody>\n",
              "    <tr>\n",
              "      <td>0</td>\n",
              "      <td>0.173565</td>\n",
              "      <td>0.311417</td>\n",
              "      <td>0.909300</td>\n",
              "      <td>01:07</td>\n",
              "    </tr>\n",
              "    <tr>\n",
              "      <td>1</td>\n",
              "      <td>0.131300</td>\n",
              "      <td>0.304989</td>\n",
              "      <td>0.915200</td>\n",
              "      <td>01:07</td>\n",
              "    </tr>\n",
              "    <tr>\n",
              "      <td>2</td>\n",
              "      <td>0.120990</td>\n",
              "      <td>0.289570</td>\n",
              "      <td>0.920400</td>\n",
              "      <td>01:07</td>\n",
              "    </tr>\n",
              "    <tr>\n",
              "      <td>3</td>\n",
              "      <td>0.103697</td>\n",
              "      <td>0.091241</td>\n",
              "      <td>0.969700</td>\n",
              "      <td>01:07</td>\n",
              "    </tr>\n",
              "    <tr>\n",
              "      <td>4</td>\n",
              "      <td>0.090706</td>\n",
              "      <td>0.130628</td>\n",
              "      <td>0.964400</td>\n",
              "      <td>01:07</td>\n",
              "    </tr>\n",
              "    <tr>\n",
              "      <td>5</td>\n",
              "      <td>0.094174</td>\n",
              "      <td>0.126116</td>\n",
              "      <td>0.962400</td>\n",
              "      <td>01:07</td>\n",
              "    </tr>\n",
              "    <tr>\n",
              "      <td>6</td>\n",
              "      <td>0.073929</td>\n",
              "      <td>0.220171</td>\n",
              "      <td>0.929200</td>\n",
              "      <td>01:08</td>\n",
              "    </tr>\n",
              "    <tr>\n",
              "      <td>7</td>\n",
              "      <td>0.068675</td>\n",
              "      <td>0.053188</td>\n",
              "      <td>0.983300</td>\n",
              "      <td>01:08</td>\n",
              "    </tr>\n",
              "    <tr>\n",
              "      <td>8</td>\n",
              "      <td>0.059054</td>\n",
              "      <td>0.085659</td>\n",
              "      <td>0.973800</td>\n",
              "      <td>01:08</td>\n",
              "    </tr>\n",
              "    <tr>\n",
              "      <td>9</td>\n",
              "      <td>0.052948</td>\n",
              "      <td>0.040999</td>\n",
              "      <td>0.985300</td>\n",
              "      <td>01:07</td>\n",
              "    </tr>\n",
              "    <tr>\n",
              "      <td>10</td>\n",
              "      <td>0.041097</td>\n",
              "      <td>0.053353</td>\n",
              "      <td>0.982200</td>\n",
              "      <td>01:08</td>\n",
              "    </tr>\n",
              "    <tr>\n",
              "      <td>11</td>\n",
              "      <td>0.035241</td>\n",
              "      <td>0.025427</td>\n",
              "      <td>0.991700</td>\n",
              "      <td>01:08</td>\n",
              "    </tr>\n",
              "    <tr>\n",
              "      <td>12</td>\n",
              "      <td>0.023564</td>\n",
              "      <td>0.017618</td>\n",
              "      <td>0.994400</td>\n",
              "      <td>01:07</td>\n",
              "    </tr>\n",
              "    <tr>\n",
              "      <td>13</td>\n",
              "      <td>0.018421</td>\n",
              "      <td>0.013132</td>\n",
              "      <td>0.995100</td>\n",
              "      <td>01:11</td>\n",
              "    </tr>\n",
              "    <tr>\n",
              "      <td>14</td>\n",
              "      <td>0.019196</td>\n",
              "      <td>0.013483</td>\n",
              "      <td>0.995200</td>\n",
              "      <td>01:09</td>\n",
              "    </tr>\n",
              "  </tbody>\n",
              "</table>"
            ],
            "text/plain": [
              "<IPython.core.display.HTML object>"
            ]
          },
          "metadata": {
            "tags": []
          }
        }
      ]
    },
    {
      "metadata": {
        "id": "5CEqoinTVb5K",
        "colab_type": "code",
        "colab": {}
      },
      "cell_type": "code",
      "source": [
        "#We have Achieved an Accuracy of 99.52%"
      ],
      "execution_count": 0,
      "outputs": []
    }
  ]
}
